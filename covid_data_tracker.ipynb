{
  "nbformat": 4,
  "nbformat_minor": 0,
  "metadata": {
    "colab": {
      "name": "covid data tracker",
      "provenance": [],
      "collapsed_sections": [],
      "authorship_tag": "ABX9TyMnxjIlCTdulIhtjOiTfdiD",
      "include_colab_link": true
    },
    "kernelspec": {
      "name": "python3",
      "display_name": "Python 3"
    }
  },
  "cells": [
    {
      "cell_type": "markdown",
      "metadata": {
        "id": "view-in-github",
        "colab_type": "text"
      },
      "source": [
        "<a href=\"https://colab.research.google.com/github/bshafer8/covid_tracker/blob/main/covid_data_tracker.ipynb\" target=\"_parent\"><img src=\"https://colab.research.google.com/assets/colab-badge.svg\" alt=\"Open In Colab\"/></a>"
      ]
    },
    {
      "cell_type": "code",
      "metadata": {
        "id": "8LaTjbNj6FB5",
        "colab": {
          "base_uri": "https://localhost:8080/"
        },
        "outputId": "51ece041-9d14-407d-dda3-903f49f74584"
      },
      "source": [
        "import pandas as pd\n",
        "from datetime import datetime, timedelta\n",
        "import pytz\n",
        "\n",
        "est = pytz.timezone('America/New_York')\n",
        "today = datetime.now(est)\n",
        "print('Today\\'s Date: ' + today.strftime('%m-%d-%Y'))\n",
        "\n",
        "df_master = pd.DataFrame([], columns=['Date', 'Cases', 'Deaths', 'Daily Cases', 'Daily Deaths', 'Active Cases'])\n",
        "\n",
        "for d in pd.date_range(start=est.localize(datetime(2020,4,12)), end=est.localize(datetime(2020,5,12))):\n",
        "  target_date = d.strftime('%m-%d-%Y')\n",
        "  prev_date = d.strftime('%m-%d-%Y')\n",
        "  if d != est.localize(datetime(2020,4,12)):\n",
        "    prev_date = str((d - timedelta(days=1)).strftime('%m-%d-%Y'))\n",
        "  \n",
        "  url = 'https://raw.githubusercontent.com/CSSEGISandData/COVID-19/master/csse_covid_19_data/csse_covid_19_daily_reports_us/' + target_date + '.csv'\n",
        "  df = pd.read_csv(url, error_bad_lines=False, index_col=0, skiprows=[0,3,10,14,15,40,45,53])\n",
        "\n",
        "  url2 = 'https://raw.githubusercontent.com/CSSEGISandData/COVID-19/master/csse_covid_19_data/csse_covid_19_daily_reports_us/' + prev_date + '.csv'\n",
        "  df2 = pd.read_csv(url2, error_bad_lines=False, index_col=0, skiprows=[0,3,10,14,15,40,45,53])\n",
        "\n",
        "  # Totals for current date\n",
        "  case_total = df.iloc[:,4].sum()\n",
        "  death_total = df.iloc[:,5].sum()\n",
        "  active_total = df.iloc[:,7].sum()\n",
        "\n",
        "  # Totals for previous date\n",
        "  y_case_total = df2.iloc[:,4].sum()\n",
        "  y_death_total = df2.iloc[:,5].sum()\n",
        "  y_active_total = df2.iloc[:,7].sum()\n",
        "\n",
        "  daily_cases = case_total -  y_case_total\n",
        "  daily_deaths = death_total - y_death_total\n",
        "\n",
        "  df_temp = pd.DataFrame([[target_date, case_total, death_total, daily_cases, daily_deaths, active_total]], \n",
        "                         columns=['Date', 'Cases', 'Deaths', 'Daily Cases', 'Daily Deaths', 'Active Cases'])\n",
        "  df_master = df_master.append(df_temp)\n",
        "\n",
        "print(df_master)\n",
        "\n",
        "\n"
      ],
      "execution_count": 78,
      "outputs": [
        {
          "output_type": "stream",
          "text": [
            "Today's Date: 03-02-2021\n",
            "2020-04-12 00:00:00-04:00\n",
            "2020-04-13 00:00:00-04:00\n",
            "2020-04-14 00:00:00-04:00\n",
            "2020-04-15 00:00:00-04:00\n",
            "2020-04-16 00:00:00-04:00\n",
            "2020-04-17 00:00:00-04:00\n",
            "2020-04-18 00:00:00-04:00\n",
            "2020-04-19 00:00:00-04:00\n",
            "2020-04-20 00:00:00-04:00\n",
            "2020-04-21 00:00:00-04:00\n",
            "2020-04-22 00:00:00-04:00\n",
            "2020-04-23 00:00:00-04:00\n",
            "2020-04-24 00:00:00-04:00\n",
            "2020-04-25 00:00:00-04:00\n",
            "2020-04-26 00:00:00-04:00\n",
            "2020-04-27 00:00:00-04:00\n",
            "2020-04-28 00:00:00-04:00\n",
            "2020-04-29 00:00:00-04:00\n",
            "2020-04-30 00:00:00-04:00\n",
            "2020-05-01 00:00:00-04:00\n",
            "2020-05-02 00:00:00-04:00\n",
            "2020-05-03 00:00:00-04:00\n",
            "2020-05-04 00:00:00-04:00\n",
            "2020-05-05 00:00:00-04:00\n",
            "2020-05-06 00:00:00-04:00\n",
            "2020-05-07 00:00:00-04:00\n",
            "2020-05-08 00:00:00-04:00\n",
            "2020-05-09 00:00:00-04:00\n",
            "2020-05-10 00:00:00-04:00\n",
            "2020-05-11 00:00:00-04:00\n",
            "2020-05-12 00:00:00-04:00\n",
            "         Date    Cases Deaths Daily Cases Daily Deaths Active Cases\n",
            "0  04-12-2020   540014  21877           0            0       485267\n",
            "0  04-13-2020   575756  23762       35742         1885       610777\n",
            "0  04-14-2020   602615  26039       26859         2277       529020\n",
            "0  04-15-2020   631185  28527       28570         2488       550706\n",
            "0  04-16-2020   662272  33085       31087         4558       574640\n",
            "0  04-17-2020   694202  36933       31930         3848       598612\n",
            "0  04-18-2020   726399  38761       32197         1828       622731\n",
            "0  04-19-2020   752946  40797       26547         2036       641861\n",
            "0  04-20-2020   778059  42290       25113         1493       663453\n",
            "0  04-21-2020   805515  44595       27456         2305       685504\n",
            "0  04-22-2020   833761  46775       28246         2180       709300\n",
            "0  04-23-2020   862182  50092       28421         3317       731690\n",
            "0  04-24-2020   898327  52107       36145         2015       746941\n",
            "0  04-25-2020   931073  53837       32746         1730       776637\n",
            "0  04-26-2020   958112  55014       27039         1177       796075\n",
            "0  04-27-2020   980528  56439       22416         1425       812441\n",
            "0  04-28-2020  1004832  58512       24304         2073       830119\n",
            "0  04-29-2020  1032148  61001       27316         2489       849869\n",
            "0  04-30-2020  1061299  62734       29151         1733       844049\n",
            "0  05-01-2020  1095232  64685       33933         1951       865848\n",
            "0  05-02-2020  1123677  66142       28445         1457       881634\n",
            "0  05-03-2020  1148608  67524       24931         1382       900723\n",
            "0  05-04-2020  1170782  68799       22174         1275       914538\n",
            "0  05-05-2020  1194538  70857       23756         2058       933373\n",
            "0  05-06-2020  1218611  73150       24073         2293       954866\n",
            "0  05-07-2020  1246579  75353       27968         2203       975540\n",
            "0  05-08-2020  1273138  76859       26559         1506       996524\n",
            "0  05-09-2020  1298717  78356       25579         1497   1.0067e+06\n",
            "0  05-10-2020  1318042  79163       19325          807   1.0218e+06\n",
            "0  05-11-2020  1336024  80345       17982         1182  1.02238e+06\n",
            "0  05-12-2020  1357931  81986       21907         1641  1.04452e+06\n"
          ],
          "name": "stdout"
        }
      ]
    }
  ]
}